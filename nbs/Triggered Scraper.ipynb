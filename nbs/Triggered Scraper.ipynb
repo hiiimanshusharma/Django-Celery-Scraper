{
 "cells": [
  {
   "cell_type": "code",
   "execution_count": 1,
   "id": "2d5f7a78-08ac-4487-951c-2736eb202c81",
   "metadata": {},
   "outputs": [],
   "source": [
    "# from selenium import webdriver\n",
    "# from selenium.webdriver import ChromeOptions"
   ]
  },
  {
   "cell_type": "code",
   "execution_count": 2,
   "id": "ff50506e-585d-41cb-868e-53752e114811",
   "metadata": {},
   "outputs": [],
   "source": [
    "import setup\n",
    "setup.init_django(project_name='config')"
   ]
  },
  {
   "cell_type": "code",
   "execution_count": 3,
   "id": "02a25649-ea1d-412b-bd29-83d0bc1ecb5f",
   "metadata": {},
   "outputs": [],
   "source": [
    "from helpers import extract_amazon_product_data, fetch_html\n",
    "from products.tasks import scrape_product_url_task"
   ]
  },
  {
   "cell_type": "code",
   "execution_count": 4,
   "id": "7bb9d99f-b83c-4378-a418-2f39061c9353",
   "metadata": {},
   "outputs": [],
   "source": [
    "url = 'https://www.amazon.in/Sony-Ragnarok-Standard-Game-PlayStation/dp/B0B6FGSKCQ/ref=pd_sbs_d_sccl_3_4/262-5912861-1090643?pd_rd_w=EwUvQ&content-id=amzn1.sym.d4089320-ab32-4dd6-a621-3f0516aefb4d&pf_rd_p=d4089320-ab32-4dd6-a621-3f0516aefb4d&pf_rd_r=1YXVM6A090JFQA339QCV&pd_rd_wg=rmfVt&pd_rd_r=91dddf60-89a6-479d-af8f-5d1892043d82&pd_rd_i=B0B6FGSKCQ&psc=1'"
   ]
  },
  {
   "cell_type": "code",
   "execution_count": 5,
   "id": "bafe58a9-0494-41a9-9bed-336e60fd0d23",
   "metadata": {},
   "outputs": [
    {
     "name": "stdout",
     "output_type": "stream",
     "text": [
      "/home/himanshu/djcelery/src\n"
     ]
    }
   ],
   "source": [
    "!pwd"
   ]
  },
  {
   "cell_type": "code",
   "execution_count": 7,
   "id": "d6b03c00-e705-4e2a-abcc-20dea2f90636",
   "metadata": {},
   "outputs": [
    {
     "data": {
      "text/plain": [
       "<AsyncResult: 5d5330f9-df01-4cbf-9d7b-0bc82c00cf0b>"
      ]
     },
     "execution_count": 7,
     "metadata": {},
     "output_type": "execute_result"
    }
   ],
   "source": [
    "scrape_product_url_task.delay(url)"
   ]
  },
  {
   "cell_type": "code",
   "execution_count": 46,
   "id": "cb5341fe-6127-448e-856b-c14aebb3b821",
   "metadata": {},
   "outputs": [
    {
     "data": {
      "text/plain": [
       "'From Santa Monica Studio comes the sequel to the critically acclaimed God of War (2018). Kratos and Atreus must journey to each of the Nine Realms in search of answers as they prepare for the prophesied battle that will end the world.'"
      ]
     },
     "execution_count": 46,
     "metadata": {},
     "output_type": "execute_result"
    }
   ],
   "source": [
    "product_description =  soup.find('div', id='productDescription').p.span.text\n",
    "product_description"
   ]
  },
  {
   "cell_type": "code",
   "execution_count": 47,
   "id": "cd1ecb28-4b44-40ae-bd88-08d5faa79513",
   "metadata": {},
   "outputs": [
    {
     "data": {
      "text/plain": [
       "' \\n About this item    Those who break fate: Atreus seeks knowledge to help him understand the prophecy of \"Loki\" and what role he is to play in Ragnarök. Kratos must decide whether he will be chained by the fear of repeating his mistakes or break free of his past to be the father Atreus needs.    Weapons of war : The Leviathan Axe, Blades of Chaos and Guardian Shield return alongside a host of new abilities for both Kratos and Atreus. As they take on gods and monsters from across the Nine Realms, Kratos\\'s deadly Spartan skills will be tested like never before as he fights to protect his family.    Explore the realms :Journey to dangerous and stunning landscapes and face a wide variety of enemy creatures, monsters and Norse gods as Kratos and Atreus search for answers and allies.    Unit Count: 1.0    Color Name: Multicolor; Hardware Platform: Pc    \\n ›  See more product details   '"
      ]
     },
     "execution_count": 47,
     "metadata": {},
     "output_type": "execute_result"
    }
   ],
   "source": [
    "featureBullets = soup.find('div', id='feature-bullets').text\n",
    "featureBullets"
   ]
  },
  {
   "cell_type": "code",
   "execution_count": 48,
   "id": "94c9102b-db4c-4539-b663-329189684ae1",
   "metadata": {},
   "outputs": [
    {
     "data": {
      "text/plain": [
       "4.6"
      ]
     },
     "execution_count": 48,
     "metadata": {},
     "output_type": "execute_result"
    }
   ],
   "source": [
    "average_rating = soup.find(id='averageCustomerReviews').find_all(\"span\", class_='a-size-base')[0].text.strip()\n",
    "average_rating = \"\".join([x for x in f\"{average_rating}\".strip() if x.isdigit() or x == '.'])\n",
    "average_rating = float(average_rating)\n",
    "average_rating"
   ]
  },
  {
   "cell_type": "code",
   "execution_count": 49,
   "id": "efe19494-fc7d-4aa0-a8c8-e9d279adee01",
   "metadata": {},
   "outputs": [
    {
     "data": {
      "text/plain": [
       "4723"
      ]
     },
     "execution_count": 49,
     "metadata": {},
     "output_type": "execute_result"
    }
   ],
   "source": [
    "rating_data = soup.find(id='acrCustomerReviewText').text\n",
    "rating_count = int(''.join([x for x in rating_data if x.isdigit()]))\n",
    "rating_count"
   ]
  },
  {
   "cell_type": "code",
   "execution_count": null,
   "id": "934a5156-46dc-485d-ba5f-eb16cb6ea8a5",
   "metadata": {},
   "outputs": [],
   "source": []
  }
 ],
 "metadata": {
  "kernelspec": {
   "display_name": "Python 3 (ipykernel)",
   "language": "python",
   "name": "python3"
  },
  "language_info": {
   "codemirror_mode": {
    "name": "ipython",
    "version": 3
   },
   "file_extension": ".py",
   "mimetype": "text/x-python",
   "name": "python",
   "nbconvert_exporter": "python",
   "pygments_lexer": "ipython3",
   "version": "3.10.12"
  }
 },
 "nbformat": 4,
 "nbformat_minor": 5
}
